{
 "cells": [
  {
   "cell_type": "markdown",
   "id": "65c9cbb4",
   "metadata": {},
   "source": [
    "# MNIST Handwritten Digit Classification with CNN (TensorFlow)\n",
    "\n",
    "This notebook builds a Convolutional Neural Network (CNN) to classify handwritten digits from the MNIST dataset.  \n",
    "Goals:\n",
    "- Achieve >95% test accuracy\n",
    "- Visualize predictions on 5 sample images"
   ]
  },
  {
   "cell_type": "code",
   "execution_count": 1,
   "id": "5f6377ba",
   "metadata": {},
   "outputs": [],
   "source": [
    "#imports\n",
    "import tensorflow as tf\n",
    "layers = tf.keras.layers\n",
    "models = tf.keras.models\n",
    "import matplotlib.pyplot as plt"
   ]
  },
  {
   "cell_type": "code",
   "execution_count": 2,
   "id": "f48a382f",
   "metadata": {},
   "outputs": [
    {
     "name": "stdout",
     "output_type": "stream",
     "text": [
      "Downloading data from https://storage.googleapis.com/tensorflow/tf-keras-datasets/mnist.npz\n",
      "\u001b[1m11490434/11490434\u001b[0m \u001b[32m━━━━━━━━━━━━━━━━━━━━\u001b[0m\u001b[37m\u001b[0m \u001b[1m12s\u001b[0m 1us/step\n"
     ]
    }
   ],
   "source": [
    "#data loading and preprocessing\n",
    "(x_train, y_train), (x_test, y_test) = tf.keras.datasets.mnist.load_data()\n",
    "\n",
    "# Normalize and reshape\n",
    "x_train = x_train[..., tf.newaxis] / 255.0\n",
    "x_test = x_test[..., tf.newaxis] / 255.0"
   ]
  },
  {
   "cell_type": "code",
   "execution_count": 3,
   "id": "5bc7643b",
   "metadata": {},
   "outputs": [
    {
     "name": "stderr",
     "output_type": "stream",
     "text": [
      "c:\\Users\\user\\AppData\\Local\\Programs\\Python\\Python313\\Lib\\site-packages\\keras\\src\\layers\\convolutional\\base_conv.py:113: UserWarning: Do not pass an `input_shape`/`input_dim` argument to a layer. When using Sequential models, prefer using an `Input(shape)` object as the first layer in the model instead.\n",
      "  super().__init__(activity_regularizer=activity_regularizer, **kwargs)\n"
     ]
    }
   ],
   "source": [
    "#building the model\n",
    "model = models.Sequential([\n",
    "    layers.Conv2D(32, (3,3), activation='relu', input_shape=(28,28,1)),\n",
    "    layers.MaxPooling2D((2,2)),\n",
    "    layers.Conv2D(64, (3,3), activation='relu'),\n",
    "    layers.MaxPooling2D((2,2)),\n",
    "    layers.Flatten(),\n",
    "    layers.Dense(64, activation='relu'),\n",
    "    layers.Dense(10, activation='softmax')\n",
    "])"
   ]
  },
  {
   "cell_type": "code",
   "execution_count": 4,
   "id": "2a8726e1",
   "metadata": {},
   "outputs": [
    {
     "name": "stdout",
     "output_type": "stream",
     "text": [
      "Epoch 1/5\n",
      "\u001b[1m1688/1688\u001b[0m \u001b[32m━━━━━━━━━━━━━━━━━━━━\u001b[0m\u001b[37m\u001b[0m \u001b[1m19s\u001b[0m 10ms/step - accuracy: 0.9523 - loss: 0.1519 - val_accuracy: 0.9823 - val_loss: 0.0622\n",
      "Epoch 2/5\n",
      "\u001b[1m1688/1688\u001b[0m \u001b[32m━━━━━━━━━━━━━━━━━━━━\u001b[0m\u001b[37m\u001b[0m \u001b[1m28s\u001b[0m 16ms/step - accuracy: 0.9840 - loss: 0.0511 - val_accuracy: 0.9888 - val_loss: 0.0399\n",
      "Epoch 3/5\n",
      "\u001b[1m1688/1688\u001b[0m \u001b[32m━━━━━━━━━━━━━━━━━━━━\u001b[0m\u001b[37m\u001b[0m \u001b[1m44s\u001b[0m 26ms/step - accuracy: 0.9891 - loss: 0.0342 - val_accuracy: 0.9900 - val_loss: 0.0325\n",
      "Epoch 4/5\n",
      "\u001b[1m1688/1688\u001b[0m \u001b[32m━━━━━━━━━━━━━━━━━━━━\u001b[0m\u001b[37m\u001b[0m \u001b[1m25s\u001b[0m 15ms/step - accuracy: 0.9918 - loss: 0.0257 - val_accuracy: 0.9903 - val_loss: 0.0326\n",
      "Epoch 5/5\n",
      "\u001b[1m1688/1688\u001b[0m \u001b[32m━━━━━━━━━━━━━━━━━━━━\u001b[0m\u001b[37m\u001b[0m \u001b[1m24s\u001b[0m 14ms/step - accuracy: 0.9931 - loss: 0.0202 - val_accuracy: 0.9907 - val_loss: 0.0358\n"
     ]
    }
   ],
   "source": [
    "#compiling and training the model\n",
    "model.compile(optimizer='adam',\n",
    "              loss='sparse_categorical_crossentropy',\n",
    "              metrics=['accuracy'])\n",
    "\n",
    "history = model.fit(x_train, y_train, epochs=5, validation_split=0.1)"
   ]
  },
  {
   "cell_type": "code",
   "execution_count": 5,
   "id": "2bd28289",
   "metadata": {},
   "outputs": [
    {
     "name": "stdout",
     "output_type": "stream",
     "text": [
      "\u001b[1m313/313\u001b[0m \u001b[32m━━━━━━━━━━━━━━━━━━━━\u001b[0m\u001b[37m\u001b[0m \u001b[1m1s\u001b[0m 4ms/step\n",
      "              precision    recall  f1-score   support\n",
      "\n",
      "           0     0.9869    0.9969    0.9919       980\n",
      "           1     0.9921    0.9903    0.9912      1135\n",
      "           2     0.9762    0.9932    0.9846      1032\n",
      "           3     0.9911    0.9891    0.9901      1010\n",
      "           4     0.9919    0.9929    0.9924       982\n",
      "           5     0.9954    0.9798    0.9876       892\n",
      "           6     0.9968    0.9864    0.9916       958\n",
      "           7     0.9903    0.9912    0.9908      1028\n",
      "           8     0.9817    0.9908    0.9862       974\n",
      "           9     0.9930    0.9822    0.9875      1009\n",
      "\n",
      "    accuracy                         0.9894     10000\n",
      "   macro avg     0.9895    0.9893    0.9894     10000\n",
      "weighted avg     0.9895    0.9894    0.9894     10000\n",
      "\n",
      "Confusion Matrix:\n",
      " [[ 977    0    0    0    0    0    1    1    1    0]\n",
      " [   2 1124    4    0    0    0    1    0    4    0]\n",
      " [   1    1 1025    0    0    0    0    4    1    0]\n",
      " [   0    0    7  999    0    0    0    1    3    0]\n",
      " [   1    0    1    0  975    0    0    1    0    4]\n",
      " [   2    0    2    9    0  874    1    0    3    1]\n",
      " [   2    2    1    0    3    2  945    0    3    0]\n",
      " [   0    3    4    0    0    0    0 1019    1    1]\n",
      " [   3    0    4    0    0    0    0    1  965    1]\n",
      " [   2    3    2    0    5    2    0    2    2  991]]\n"
     ]
    }
   ],
   "source": [
    "#Evaluating the model\n",
    "from sklearn.metrics import classification_report, confusion_matrix\n",
    "import numpy as np\n",
    "\n",
    "# Get predicted labels\n",
    "y_pred_probs = model.predict(x_test)\n",
    "y_pred = np.argmax(y_pred_probs, axis=1)\n",
    "\n",
    "# Print classification report\n",
    "print(classification_report(y_test, y_pred, digits=4))\n",
    "\n",
    "# Optional: Confusion matrix\n",
    "cm = confusion_matrix(y_test, y_pred)\n",
    "print(\"Confusion Matrix:\\n\", cm)"
   ]
  },
  {
   "cell_type": "code",
   "execution_count": 6,
   "id": "37477d53",
   "metadata": {},
   "outputs": [
    {
     "data": {
      "image/png": "[encoded data removed]",
      "text/plain": [
       "<Figure size 1000x200 with 5 Axes>"
      ]
     },
     "metadata": {},
     "output_type": "display_data"
    }
   ],
   "source": [
    "#visualizing handwriting samples\n",
    "# Visualize 5 sample predictions\n",
    "plt.figure(figsize=(10, 2))\n",
    "for i in range(5):\n",
    "    plt.subplot(1, 5, i+1)\n",
    "    plt.imshow(x_test[i].reshape(28,28), cmap='gray')\n",
    "    plt.title(f\"Pred: {y_pred[i]}\\nTrue: {y_test[i]}\")\n",
    "    plt.axis('off')\n",
    "plt.tight_layout()\n",
    "plt.show()"
   ]
  },
  {
   "cell_type": "code",
   "execution_count": 8,
   "id": "379eb632",
   "metadata": {},
   "outputs": [
    {
     "name": "stdout",
     "output_type": "stream",
     "text": [
      "Speaking: 7\n",
      "Speaking: 2\n",
      "Speaking: 1\n",
      "Speaking: 0\n",
      "Speaking: 4\n"
     ]
    }
   ],
   "source": [
    "import pyttsx3\n",
    "\n",
    "engine = pyttsx3.init()\n",
    "for i in range(5):\n",
    "    digit = y_pred[i]\n",
    "    print(f\"Speaking: {digit}\")\n",
    "    engine.say(str(digit))\n",
    "    engine.runAndWait()"
   ]
  }
 ],
 "metadata": {
  "kernelspec": {
   "display_name": "Python 3",
   "language": "python",
   "name": "python3"
  },
  "language_info": {
   "codemirror_mode": {
    "name": "ipython",
    "version": 3
   },
   "file_extension": ".py",
   "mimetype": "text/x-python",
   "name": "python",
   "nbconvert_exporter": "python",
   "pygments_lexer": "ipython3",
   "version": "3.13.7"
  }
 },
 "nbformat": 4,
 "nbformat_minor": 5
}
